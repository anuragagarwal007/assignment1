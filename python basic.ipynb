{
 "cells": [
  {
   "cell_type": "code",
   "execution_count": 6,
   "id": "62a411ba-66b4-4b37-a91c-d3edd95618d6",
   "metadata": {},
   "outputs": [],
   "source": [
    "anurag=100\n"
   ]
  },
  {
   "cell_type": "code",
   "execution_count": 7,
   "id": "22833556-dc53-4617-bec5-6678c7053d51",
   "metadata": {},
   "outputs": [
    {
     "data": {
      "text/plain": [
       "100"
      ]
     },
     "execution_count": 7,
     "metadata": {},
     "output_type": "execute_result"
    }
   ],
   "source": [
    "anurag"
   ]
  },
  {
   "cell_type": "code",
   "execution_count": 8,
   "id": "2f945f70-0864-4795-99bd-c08fde1dd887",
   "metadata": {},
   "outputs": [
    {
     "data": {
      "text/plain": [
       "110"
      ]
     },
     "execution_count": 8,
     "metadata": {},
     "output_type": "execute_result"
    }
   ],
   "source": [
    "a+anurag"
   ]
  },
  {
   "cell_type": "code",
   "execution_count": null,
   "id": "85f090b8-c574-4b78-b2f3-0ea178bca2da",
   "metadata": {},
   "outputs": [],
   "source": []
  }
 ],
 "metadata": {
  "kernelspec": {
   "display_name": "Python 3 (ipykernel)",
   "language": "python",
   "name": "python3"
  },
  "language_info": {
   "codemirror_mode": {
    "name": "ipython",
    "version": 3
   },
   "file_extension": ".py",
   "mimetype": "text/x-python",
   "name": "python",
   "nbconvert_exporter": "python",
   "pygments_lexer": "ipython3",
   "version": "3.10.8"
  }
 },
 "nbformat": 4,
 "nbformat_minor": 5
}
